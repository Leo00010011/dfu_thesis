{
 "cells": [
  {
   "cell_type": "code",
   "execution_count": 17,
   "id": "a7ba2457",
   "metadata": {},
   "outputs": [],
   "source": [
    "import numpy as np\n",
    "import scipy as sc\n",
    "import open3d as o3d\n",
    "from math import sqrt\n",
    "import matplotlib.pyplot as plt\n",
    "from scipy.spatial import ConvexHull\n",
    "from sklearn.metrics.pairwise import euclidean_distances\n",
    "from sklearn.metrics import mean_absolute_error, mean_absolute_percentage_error"
   ]
  },
  {
   "cell_type": "code",
   "execution_count": 18,
   "id": "8e6c33ae",
   "metadata": {},
   "outputs": [],
   "source": [
    "result = []\n",
    "\n",
    "\n",
    "for i in range(1, 11):\n",
    "    name = str(i)\n",
    "    PLY = f\"./{name}.ply\"\n",
    "    mesh = o3d.io.read_triangle_mesh(PLY)\n",
    "    mesh.compute_vertex_normals()\n",
    "\n",
    "    pcd = o3d.geometry.PointCloud()\n",
    "    pcd.points = mesh.vertices\n",
    "    pcd.estimate_normals(search_param=o3d.geometry.KDTreeSearchParamHybrid(radius=0.01, max_nn=30))\n",
    "    pcd.orient_normals_consistent_tangent_plane(100)\n",
    "    p, a, v = perimeter(pcd)/DEPTH_UNIT, area(mesh)/DEPTH_UNIT**2, volume(pcd, name)/DEPTH_UNIT**3\n",
    "    result.append((p, a, v))"
   ]
  },
  {
   "cell_type": "code",
   "execution_count": 22,
   "id": "5ea51e8b",
   "metadata": {},
   "outputs": [
    {
     "name": "stdout",
     "output_type": "stream",
     "text": [
      "[[  115.36159632  2040.85331465 13508.28552197]\n",
      " [  134.63810081  2135.7494002  14395.79846288]\n",
      " [  137.24029191  2254.34844507 15744.85747332]\n",
      " [  138.20170719  2489.68073282 16405.70121997]\n",
      " [  135.85536198  2226.6689118  15595.6775057 ]\n",
      " [  118.91547872  2090.25855754 13446.89242905]\n",
      " [  138.68947952  2477.73640707 16584.61082972]\n",
      " [  136.06529079  2193.86508415 15824.3503675 ]\n",
      " [  136.44271432  2380.11083176 16301.3703937 ]\n",
      " [  138.68947952  2477.73640707 16584.61082972]]\n"
     ]
    }
   ],
   "source": [
    "result = np.array(result)\n",
    "m = np.nanmean(result, axis=0)\n",
    "for t in np.argwhere(np.isnan(result)):\n",
    "    result[t[0], t[1]] = m[t[1]]\n",
    "value = np.array([[np.pi * 40, np.pi * 840, np.pi * 4400] * result.shape[0]]).reshape(result.shape)\n",
    "print(result)"
   ]
  },
  {
   "cell_type": "code",
   "execution_count": 23,
   "id": "b7fa73c5",
   "metadata": {},
   "outputs": [
    {
     "data": {
      "text/plain": [
       "array([  10.75631141,  362.2370198 , 1754.37530767])"
      ]
     },
     "execution_count": 23,
     "metadata": {},
     "output_type": "execute_result"
    }
   ],
   "source": [
    "mean_absolute_error(value, result, multioutput='raw_values')"
   ]
  },
  {
   "cell_type": "code",
   "execution_count": 24,
   "id": "de5c99e1",
   "metadata": {},
   "outputs": [
    {
     "data": {
      "text/plain": [
       "array([0.08559601, 0.13726622, 0.12691705])"
      ]
     },
     "execution_count": 24,
     "metadata": {},
     "output_type": "execute_result"
    }
   ],
   "source": [
    "mean_absolute_percentage_error(value, result, multioutput='raw_values')"
   ]
  },
  {
   "cell_type": "code",
   "execution_count": 8,
   "id": "ee28dc68",
   "metadata": {},
   "outputs": [],
   "source": [
    "DEPTH_UNIT = 0.001"
   ]
  },
  {
   "cell_type": "markdown",
   "id": "9c72e8fd",
   "metadata": {},
   "source": [
    "# Perímetro\n",
    "\n",
    "Se calcula el perimetro como la suma de las distancia Euclideana de los puntos de la frontera de la ulcera. Para ello se calculan los puntos que pertenecen a la envoltura convexa de la nube de puntos y se calcula la distancia entre ellos. \n",
    "\n",
    "- Fuente: Wound 3D Geometrical Feature Estimation Using Poisson Reconstruction"
   ]
  },
  {
   "cell_type": "code",
   "execution_count": 3,
   "id": "86713b3f",
   "metadata": {},
   "outputs": [],
   "source": [
    "def perimeter(ulcer_pts):\n",
    "    ulcer2d = np.asarray(ulcer_pts.points)[:,:2]\n",
    "    ch = ConvexHull(ulcer2d)\n",
    "    p = 0\n",
    "    for edge in ch.simplices:\n",
    "        p += euclidean_distances([ulcer2d[edge[0]]], [ulcer2d[edge[1]]])[0][0]\n",
    "    return p"
   ]
  },
  {
   "cell_type": "code",
   "execution_count": 2,
   "id": "44336271",
   "metadata": {},
   "outputs": [
    {
     "ename": "NameError",
     "evalue": "name 'pcd' is not defined",
     "output_type": "error",
     "traceback": [
      "\u001b[0;31m---------------------------------------------------------------------------\u001b[0m",
      "\u001b[0;31mNameError\u001b[0m                                 Traceback (most recent call last)",
      "Input \u001b[0;32mIn [2]\u001b[0m, in \u001b[0;36m<cell line: 1>\u001b[0;34m()\u001b[0m\n\u001b[0;32m----> 1\u001b[0m \u001b[38;5;28mprint\u001b[39m(\u001b[38;5;124m\"\u001b[39m\u001b[38;5;124mPerímetro:\u001b[39m\u001b[38;5;124m\"\u001b[39m, perimeter(\u001b[43mpcd\u001b[49m) \u001b[38;5;241m/\u001b[39m DEPTH_UNIT, \u001b[38;5;124m\"\u001b[39m\u001b[38;5;124mmm\u001b[39m\u001b[38;5;124m\"\u001b[39m)\n",
      "\u001b[0;31mNameError\u001b[0m: name 'pcd' is not defined"
     ]
    }
   ],
   "source": [
    "print(\"Perímetro:\", perimeter(pcd) / DEPTH_UNIT, \"mm\")"
   ]
  },
  {
   "cell_type": "markdown",
   "id": "1c61c464",
   "metadata": {},
   "source": [
    "# Área\n",
    "\n",
    "El área se calcula como la suma de todos los triángulos de la malla utilizando la fórmula de Herón.\n",
    "\n",
    "$A_t = \\sqrt{s(s-a)(s-b)(s-c)}$\n",
    "\n",
    "donde $s = \\frac{P_t}{2}$ y $P_t$ es el perímetro del triángulo.\n",
    "\n",
    "Entonces $A_M = \\sum_{i = 0}^n A_{t_i}$ donde $M$ es la malla con $n$ triángulos."
   ]
  },
  {
   "cell_type": "code",
   "execution_count": 4,
   "id": "c735dc49",
   "metadata": {},
   "outputs": [],
   "source": [
    "def heron(p):\n",
    "    S = euclidean_distances(p, p)\n",
    "    SP = (S[0][1] + S[0][2] + S[1][2])/2\n",
    "    return sqrt(SP * (SP - S[0][1]) * (SP - S[0][2]) * (SP - S[1][2]))\n",
    "\n",
    "def area(ulcer_mesh):\n",
    "    triangles = np.asarray(ulcer_mesh.triangles)\n",
    "    points = np.asarray(ulcer_mesh.vertices)\n",
    "    area = 0\n",
    "    for t in triangles:\n",
    "        pts = points[t]\n",
    "        area += heron(pts)\n",
    "    return area\n",
    "\n",
    "def area_o3d(ulcer_mesh):\n",
    "    return ulcer_mesh.get_surface_area()"
   ]
  },
  {
   "cell_type": "code",
   "execution_count": null,
   "id": "4f7033ad",
   "metadata": {},
   "outputs": [],
   "source": [
    "print(\"Area:\",area(mesh) / DEPTH_UNIT**2, \"mm2\")"
   ]
  },
  {
   "cell_type": "markdown",
   "id": "025a06b9",
   "metadata": {},
   "source": [
    "# Volumen\n",
    "\n",
    "Para calcular el volumen se procede a generar la tapa de la ulcera utilizando spline cubico, luego se genera una triangulacion de Delaunay entre la tapa y la ulcera para luego calcular el volumen de cada piramide resultante de la triangulacion utilizando el area segun Heron y la distancia de punto a plano."
   ]
  },
  {
   "cell_type": "code",
   "execution_count": 11,
   "id": "972e5c4d",
   "metadata": {},
   "outputs": [],
   "source": [
    "def get_plane(x: np.array, y: np.array, z: np.array):\n",
    "    xy = y - x\n",
    "    xz = z - x\n",
    "    n = np.cross(xy, xz)\n",
    "    d = np.dot(x, n)\n",
    "    return np.concatenate((n, [-d]))\n",
    "\n",
    "def pP_distance(p0: np.array, x: np.array, y: np.array, z: np.array):\n",
    "    plane = get_plane(x, y, z)\n",
    "    num = abs(np.dot(np.concatenate((p0, [1])), plane))\n",
    "    den = sqrt(np.sum(plane[:3] ** 2))\n",
    "    return num / den\n",
    "\n",
    "def get_top(ulcer_pts, save_top = False, name=\"\"):\n",
    "    # obtengo los puntos del borde de la ulcera\n",
    "    #points_boundary = np.asarray(pcd.select_by_index(ulcer_pts.compute_convex_hull()[1]).points)\n",
    "    ulcer2d = np.asarray(ulcer_pts.points)[:,:2]\n",
    "    ch = ConvexHull(ulcer2d)\n",
    "    points_boundary = np.asarray(pcd.points)[ch.vertices]\n",
    "    # inicializo un interpolador\n",
    "    interpolate = sc.interpolate.CloughTocher2DInterpolator(points_boundary[:,:2], points_boundary[:,-1])\n",
    "    #interpolate = sc.interpolate.LinearNDInterpolator(points_boundary[:,:2], points_boundary[:,-1])\n",
    "    # calculo los maximos y los minimos de los puntos del borde para generar la tapa\n",
    "    mins = np.min(points_boundary[:,:2], axis=0)\n",
    "    maxs = np.max(points_boundary[:,:2], axis=0)\n",
    "    x = np.linspace(mins[0], maxs[0], 100)\n",
    "    y = np.linspace(mins[1], maxs[1], 100)\n",
    "    x, y = np.meshgrid(x, y)\n",
    "    points = np.dstack((x, y))\n",
    "    # genero los puntos de la tapa usando la interpolacion\n",
    "    points_3d = []\n",
    "    for i in range(points.shape[0]):\n",
    "        for j in range(points.shape[1]):\n",
    "            points_3d.append([points[i][j][0], points[i][j][1], interpolate(points[i][j])[0]])\n",
    "    points_3d = np.array(points_3d)\n",
    "    points_3d = points_3d[~np.isnan(points_3d[:,-1])]\n",
    "    top = o3d.geometry.PointCloud()\n",
    "    top.points = o3d.utility.Vector3dVector(points_3d)\n",
    "\n",
    "    if save_top:\n",
    "        o3d.io.write_point_cloud(f\"./{name}.ply\", top)\n",
    "    return top\n",
    "\n",
    "def volume(ulcer_pts, name):\n",
    "    points_3d = get_top(ulcer_pts, False, name)\n",
    "    # luego hago la triangulacion de Delaunay en 3D\n",
    "    delaunay = sc.spatial.Delaunay(np.concatenate((points_3d.points, np.asarray(ulcer_pts.points))))\n",
    "    # se calcula el volumen de cada piramide\n",
    "    volume = 0\n",
    "    for pyramid in delaunay.simplices:\n",
    "        pts = delaunay.points[pyramid]\n",
    "        AB = heron(pts[1:])\n",
    "        h = pP_distance(pts[0], pts[1], pts[2], pts[3])\n",
    "        volume += (AB * h) / 3\n",
    "    return volume"
   ]
  },
  {
   "cell_type": "code",
   "execution_count": 83,
   "id": "1c31c6d7",
   "metadata": {},
   "outputs": [
    {
     "name": "stdout",
     "output_type": "stream",
     "text": [
      "[230 200 170 106  22   6   5   1   0   7  23  48 107 171 325 388 477 604\n",
      " 629 696 698 701 709 714 695 673 603 580 531]\n",
      "Volumen 16310.635234263693 mm3\n"
     ]
    }
   ],
   "source": [
    "print(\"Volumen\",volume(pcd, name) / DEPTH_UNIT**3, \"mm3\")"
   ]
  },
  {
   "cell_type": "code",
   "execution_count": null,
   "id": "e19c525b",
   "metadata": {},
   "outputs": [],
   "source": []
  }
 ],
 "metadata": {
  "kernelspec": {
   "display_name": "Python 3",
   "language": "python",
   "name": "python3"
  },
  "language_info": {
   "codemirror_mode": {
    "name": "ipython",
    "version": 3
   },
   "file_extension": ".py",
   "mimetype": "text/x-python",
   "name": "python",
   "nbconvert_exporter": "python",
   "pygments_lexer": "ipython3",
   "version": "3.9.12"
  },
  "vscode": {
   "interpreter": {
    "hash": "916dbcbb3f70747c44a77c7bcd40155683ae19c65e1c03b4aa3499c5328201f1"
   }
  }
 },
 "nbformat": 4,
 "nbformat_minor": 5
}

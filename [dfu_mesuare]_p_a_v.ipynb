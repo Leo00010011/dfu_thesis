{
 "cells": [
  {
   "cell_type": "code",
   "execution_count": 1,
   "id": "a7ba2457",
   "metadata": {},
   "outputs": [
    {
     "name": "stdout",
     "output_type": "stream",
     "text": [
      "Jupyter environment detected. Enabling Open3D WebVisualizer.\n",
      "[Open3D INFO] WebRTC GUI backend enabled.\n",
      "[Open3D INFO] WebRTCWindowSystem: HTTP handshake server disabled.\n"
     ]
    }
   ],
   "source": [
    "import numpy as np\n",
    "import scipy as sc\n",
    "import open3d as o3d\n",
    "from math import sqrt\n",
    "import matplotlib.pyplot as plt\n",
    "from sklearn.metrics.pairwise import euclidean_distances"
   ]
  },
  {
   "cell_type": "code",
   "execution_count": 2,
   "id": "8e6c33ae",
   "metadata": {},
   "outputs": [
    {
     "name": "stdout",
     "output_type": "stream",
     "text": [
      "Abriendo point cloud\n",
      "Abriendo malla\n"
     ]
    }
   ],
   "source": [
    "PLY = \"./models/1.ply\"\n",
    "\n",
    "print(\"Abriendo point cloud\")\n",
    "pcd = o3d.io.read_point_cloud(PLY)\n",
    "print(\"Abriendo malla\")\n",
    "mesh = o3d.io.read_triangle_mesh(PLY)"
   ]
  },
  {
   "cell_type": "markdown",
   "id": "9c72e8fd",
   "metadata": {},
   "source": [
    "# Perímetro\n",
    "\n",
    "Se calcula el perimetro como la suma de las distancia Euclideana de los puntos de la frontera de la ulcera. Para ello se calculan los puntos que pertenecen a la envoltura convexa de la nube de puntos y se calcula la distancia entre ellos. \n",
    "\n",
    "- Fuente: Wound 3D Geometrical Feature Estimation Using Poisson Reconstruction"
   ]
  },
  {
   "cell_type": "code",
   "execution_count": 3,
   "id": "86713b3f",
   "metadata": {},
   "outputs": [],
   "source": [
    "def perimeter(ulcer_pts):\n",
    "    points_boundary = np.asarray(ulcer_pts.select_by_index(ulcer_pts.compute_convex_hull()[1]).points)\n",
    "    distances = euclidean_distances(points_boundary, points_boundary)\n",
    "    p = distances[0][-1]\n",
    "    for i in range(0, distances.shape[0]-1):\n",
    "        p += distances[i][i+1]\n",
    "    return p\n"
   ]
  },
  {
   "cell_type": "code",
   "execution_count": 4,
   "id": "44336271",
   "metadata": {},
   "outputs": [
    {
     "name": "stdout",
     "output_type": "stream",
     "text": [
      "Perímetro: 1.1269077642421501 u\n"
     ]
    }
   ],
   "source": [
    "print(\"Perímetro:\", perimeter(pcd), \"u\")"
   ]
  },
  {
   "cell_type": "markdown",
   "id": "1c61c464",
   "metadata": {},
   "source": [
    "# Área\n",
    "\n",
    "El área se calcula como la suma de todos los triángulos de la malla utilizando la fórmula de Herón.\n",
    "\n",
    "$A_t = \\sqrt{s(s-a)(s-b)(s-c)}$\n",
    "\n",
    "donde $s = \\frac{P_t}{2}$ y $P_t$ es el perímetro del triángulo.\n",
    "\n",
    "Entonces $A_M = \\sum_{i = 0}^n A_{t_i}$ donde $M$ es la malla con $n$ triángulos."
   ]
  },
  {
   "cell_type": "code",
   "execution_count": 5,
   "id": "c735dc49",
   "metadata": {},
   "outputs": [],
   "source": [
    "def heron(p):\n",
    "    S = euclidean_distances(p, p)\n",
    "    SP = (S[0][1] + S[0][2] + S[1][2])/2\n",
    "    return sqrt(SP * (SP - S[0][1]) * (SP - S[0][2]) * (SP - S[1][2]))\n",
    "\n",
    "def area(ulcer_pts, ulcer_mesh):\n",
    "    triangles = np.asarray(ulcer_mesh.triangles)\n",
    "    points = np.asarray(ulcer_pts.points)\n",
    "    area = 0\n",
    "    for t in triangles:\n",
    "        pts = points[t]\n",
    "        area += heron(pts)\n",
    "    return area"
   ]
  },
  {
   "cell_type": "code",
   "execution_count": 6,
   "id": "4f7033ad",
   "metadata": {},
   "outputs": [
    {
     "name": "stdout",
     "output_type": "stream",
     "text": [
      "Area: 0.0016225300427622836 u2\n"
     ]
    }
   ],
   "source": [
    "print(\"Area:\",area(pcd, mesh), \"u2\")"
   ]
  },
  {
   "cell_type": "markdown",
   "id": "025a06b9",
   "metadata": {},
   "source": [
    "# Volumen\n",
    "\n",
    "Para calcular el volumen se procede a generar la tapa de la ulcera utilizando spline cubico, luego se genera una triangulacion de Delaunay entre la tapa y la ulcera para luego calcular el volumen de cada piramide resultante de la triangulacion utilizando el area segun Heron y la distancia de punto a plano."
   ]
  },
  {
   "cell_type": "code",
   "execution_count": 7,
   "id": "972e5c4d",
   "metadata": {},
   "outputs": [],
   "source": [
    "def get_plane(x: np.array, y: np.array, z: np.array):\n",
    "    xy = y - x\n",
    "    xz = z - x\n",
    "    n = np.cross(xy, xz)\n",
    "    d = np.dot(x, n)\n",
    "    return np.concatenate((n, [-d]))\n",
    "\n",
    "def pP_distance(p0: np.array, x: np.array, y: np.array, z: np.array):\n",
    "    plane = get_plane(x, y, z)\n",
    "    num = abs(np.dot(np.concatenate((p0, [1])), plane))\n",
    "    den = sqrt(np.sum(plane[:3] ** 2))\n",
    "    return num / den\n",
    "\n",
    "def volume(ulcer_pts, save_top=True, name=\"\"):\n",
    "    # obtengo los puntos del borde de la ulcera\n",
    "    points_boundary = np.asarray(pcd.select_by_index(ulcer_pts.compute_convex_hull()[1]).points)\n",
    "    # inicializo un interpolador\n",
    "    interpolate = sc.interpolate.CloughTocher2DInterpolator(points_boundary[:,:2], points_boundary[:,-1])\n",
    "    #interpolate = sc.interpolate.NearestNDInterpolator(points_boundary[:,:2], points_boundary[:,-1])\n",
    "    # calculo los maximos y los minimos de los puntos del borde para generar la tapa\n",
    "    mins = np.min(points_boundary[:,:2], axis=0)\n",
    "    maxs = np.max(points_boundary[:,:2], axis=0)\n",
    "    x = np.linspace(mins[0], maxs[0], 50)\n",
    "    y = np.linspace(mins[1], maxs[1], 50)\n",
    "    x, y = np.meshgrid(x, y)\n",
    "    points = np.dstack((x, y))\n",
    "    # genero los puntos de la tapa usando la interpolacion\n",
    "    points_3d = []\n",
    "    for i in range(points.shape[0]):\n",
    "        for j in range(points.shape[1]):\n",
    "            points_3d.append([points[i][j][0], points[i][j][1], interpolate(points[i][j])[0]])\n",
    "    points_3d = np.array(points_3d)\n",
    "    points_3d = points_3d[~np.isnan(points_3d[:,-1])]\n",
    "    if save_top:\n",
    "        top = o3d.geometry.PointCloud()\n",
    "        top.points = o3d.utility.Vector3dVector(points_3d)\n",
    "        o3d.io.write_point_cloud(f\"./models/tops/top_{name}.ply\", top)\n",
    "    # luego hago la triangulacion de Delaunay en 3D\n",
    "    delaunay = sc.spatial.Delaunay(np.concatenate((points_3d, points_boundary)))\n",
    "    # se calcula el volumen de cada piramide\n",
    "    volume = 0\n",
    "    for pyramid in delaunay.simplices:\n",
    "        pts = delaunay.points[pyramid]\n",
    "        AB = heron(pts[1:])\n",
    "        h = pP_distance(pts[0], pts[1], pts[2], pts[3])\n",
    "        volume += (AB * h) / 3\n",
    "    return volume"
   ]
  },
  {
   "cell_type": "code",
   "execution_count": 288,
   "id": "1c31c6d7",
   "metadata": {},
   "outputs": [
    {
     "name": "stdout",
     "output_type": "stream",
     "text": [
      "Volumen 0.00012369791377811587 u3\n"
     ]
    }
   ],
   "source": [
    "print(\"Volumen\",volume(pcd, name=\"1\"), \"u3\")"
   ]
  },
  {
   "cell_type": "code",
   "execution_count": null,
   "id": "e4a22fac",
   "metadata": {},
   "outputs": [],
   "source": []
  }
 ],
 "metadata": {
  "kernelspec": {
   "display_name": "Python 3",
   "language": "python",
   "name": "python3"
  },
  "language_info": {
   "codemirror_mode": {
    "name": "ipython",
    "version": 3
   },
   "file_extension": ".py",
   "mimetype": "text/x-python",
   "name": "python",
   "nbconvert_exporter": "python",
   "pygments_lexer": "ipython3",
   "version": "3.9.12"
  }
 },
 "nbformat": 4,
 "nbformat_minor": 5
}
